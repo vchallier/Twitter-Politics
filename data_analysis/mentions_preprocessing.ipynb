{
 "cells": [
  {
   "cell_type": "code",
   "execution_count": 1,
   "metadata": {
    "collapsed": true
   },
   "outputs": [],
   "source": [
    "import json\n",
    "import csv\n",
    "import pandas as pd"
   ]
  },
  {
   "cell_type": "code",
   "execution_count": 2,
   "metadata": {
    "collapsed": true
   },
   "outputs": [],
   "source": [
    "tweets_democrats_house_file = '../data_collection/tweets_democrats_house.txt'\n",
    "tweets_republicans_house_file = '../data_collection/tweets_republicans_house.txt' "
   ]
  },
  {
   "cell_type": "code",
   "execution_count": 3,
   "metadata": {},
   "outputs": [
    {
     "name": "stdout",
     "output_type": "stream",
     "text": [
      "{'account': 'RepDarrenSoto', 'hashtags': ['DQAwards'], 'urls': [], 'mentions': ['StephSmithFL', 'DanP_ATT']}\n"
     ]
    }
   ],
   "source": [
    "tweets_democrats = []\n",
    "with open(tweets_democrats_house_file) as f:\n",
    "    for line in f:\n",
    "        tweets_democrats.append(json.loads(line))\n",
    "\n",
    "tweets_republicans = []\n",
    "with open(tweets_republicans_house_file) as f:\n",
    "    for line in f:\n",
    "        tweets_republicans.append(json.loads(line))\n",
    "        \n",
    "print(tweets_democrats[0])"
   ]
  },
  {
   "cell_type": "code",
   "execution_count": 4,
   "metadata": {},
   "outputs": [
    {
     "name": "stdout",
     "output_type": "stream",
     "text": [
      "167 democrat accounts\n",
      "171 republican accounts\n"
     ]
    }
   ],
   "source": [
    "democrats_accounts = dict()\n",
    "for tweet in tweets_democrats:\n",
    "    mentions = ''\n",
    "    for mention in tweet['mentions']:\n",
    "        mentions += ' ' + mention.lower()\n",
    "    if tweet['account'] in democrats_accounts:\n",
    "        democrats_accounts[tweet['account']] += mentions\n",
    "    else:\n",
    "        democrats_accounts[tweet['account']] = mentions\n",
    "print(len(democrats_accounts), 'democrat accounts')    \n",
    "    \n",
    "republicans_accounts = dict()\n",
    "for tweet in tweets_republicans:\n",
    "    mentions = ''\n",
    "    for mention in tweet['mentions']:\n",
    "        mentions += ' ' + mention.lower()\n",
    "    if tweet['account'] in republicans_accounts:\n",
    "        republicans_accounts[tweet['account']] += mentions\n",
    "    else:\n",
    "        republicans_accounts[tweet['account']] = mentions\n",
    "print(len(republicans_accounts), 'republican accounts') "
   ]
  },
  {
   "cell_type": "code",
   "execution_count": 13,
   "metadata": {
    "collapsed": true
   },
   "outputs": [],
   "source": [
    "sample_data = []\n",
    "\n",
    "for key, value in democrats_accounts.items():\n",
    "    sample_data.append(['0', value[1:]])\n",
    "    \n",
    "for key, value in republicans_accounts.items():\n",
    "    sample_data.append(['1', value[1:]])"
   ]
  },
  {
   "cell_type": "code",
   "execution_count": 14,
   "metadata": {
    "collapsed": true
   },
   "outputs": [],
   "source": [
    "my_df = pd.DataFrame(sample_data)\n",
    "my_df.to_csv('../data_collection/mentions_data.csv', index=False, header=['label', 'mentions'])"
   ]
  },
  {
   "cell_type": "code",
   "execution_count": 15,
   "metadata": {},
   "outputs": [
    {
     "data": {
      "text/html": [
       "<div>\n",
       "<style scoped>\n",
       "    .dataframe tbody tr th:only-of-type {\n",
       "        vertical-align: middle;\n",
       "    }\n",
       "\n",
       "    .dataframe tbody tr th {\n",
       "        vertical-align: top;\n",
       "    }\n",
       "\n",
       "    .dataframe thead th {\n",
       "        text-align: right;\n",
       "    }\n",
       "</style>\n",
       "<table border=\"1\" class=\"dataframe\">\n",
       "  <thead>\n",
       "    <tr style=\"text-align: right;\">\n",
       "      <th></th>\n",
       "      <th>0</th>\n",
       "      <th>1</th>\n",
       "    </tr>\n",
       "  </thead>\n",
       "  <tbody>\n",
       "    <tr>\n",
       "      <th>0</th>\n",
       "      <td>0</td>\n",
       "      <td>wreathsacross vereynn wreathsacross mdw_usarmy...</td>\n",
       "    </tr>\n",
       "    <tr>\n",
       "      <th>1</th>\n",
       "      <td>0</td>\n",
       "      <td>univisionnews jessweisswrites jorgeramosnews j...</td>\n",
       "    </tr>\n",
       "    <tr>\n",
       "      <th>2</th>\n",
       "      <td>0</td>\n",
       "      <td>nbcnews nbcnews dccultura suzgamboa nbcnews nb...</td>\n",
       "    </tr>\n",
       "    <tr>\n",
       "      <th>3</th>\n",
       "      <td>0</td>\n",
       "      <td>aarpny senschumer martinheinrich fcc ajitpaifc...</td>\n",
       "    </tr>\n",
       "    <tr>\n",
       "      <th>4</th>\n",
       "      <td>0</td>\n",
       "      <td>epa repannaeshoo sengillibrand fcc martinheinr...</td>\n",
       "    </tr>\n",
       "  </tbody>\n",
       "</table>\n",
       "</div>"
      ],
      "text/plain": [
       "   0                                                  1\n",
       "0  0  wreathsacross vereynn wreathsacross mdw_usarmy...\n",
       "1  0  univisionnews jessweisswrites jorgeramosnews j...\n",
       "2  0  nbcnews nbcnews dccultura suzgamboa nbcnews nb...\n",
       "3  0  aarpny senschumer martinheinrich fcc ajitpaifc...\n",
       "4  0  epa repannaeshoo sengillibrand fcc martinheinr..."
      ]
     },
     "execution_count": 15,
     "metadata": {},
     "output_type": "execute_result"
    }
   ],
   "source": [
    "my_df.head()"
   ]
  },
  {
   "cell_type": "code",
   "execution_count": 16,
   "metadata": {
    "collapsed": true
   },
   "outputs": [],
   "source": [
    "tweets_republicans_support_file = '../data_collection/tweets_republican_support.txt' \n",
    "tweets_democrats_support_file = '../data_collection/tweets_democrat_support.txt' "
   ]
  },
  {
   "cell_type": "code",
   "execution_count": 17,
   "metadata": {
    "collapsed": true
   },
   "outputs": [],
   "source": [
    "tweets_republicans = []\n",
    "with open(tweets_republicans_support_file) as f:\n",
    "    for line in f:\n",
    "        tweets_republicans.append(json.loads(line))\n",
    "\n",
    "tweets_democrats = []\n",
    "with open(tweets_democrats_support_file) as f:\n",
    "    for line in f:\n",
    "        tweets_democrats.append(json.loads(line))"
   ]
  },
  {
   "cell_type": "code",
   "execution_count": 18,
   "metadata": {},
   "outputs": [
    {
     "name": "stdout",
     "output_type": "stream",
     "text": [
      "47 republican accounts\n",
      "40 democrat accounts\n"
     ]
    }
   ],
   "source": [
    "republicans_accounts = dict()\n",
    "for tweet in tweets_republicans:\n",
    "    mentions = ''\n",
    "    for mention in tweet['mentions']:\n",
    "        mentions += ' ' + mention.lower()\n",
    "    if tweet['account'] in republicans_accounts:\n",
    "        republicans_accounts[tweet['account']] += mentions\n",
    "    else:\n",
    "        republicans_accounts[tweet['account']] = mentions\n",
    "print(len(republicans_accounts), 'republican accounts') \n",
    "\n",
    "democrats_accounts = dict()\n",
    "for tweet in tweets_democrats:\n",
    "    mentions = ''\n",
    "    for mention in tweet['mentions']:\n",
    "        mentions += ' ' + mention.lower()\n",
    "    if tweet['account'] in democrats_accounts:\n",
    "        democrats_accounts[tweet['account']] += mentions\n",
    "    else:\n",
    "        democrats_accounts[tweet['account']] = mentions\n",
    "print(len(democrats_accounts), 'democrat accounts') "
   ]
  },
  {
   "cell_type": "code",
   "execution_count": 19,
   "metadata": {
    "collapsed": true
   },
   "outputs": [],
   "source": [
    "test_data = []\n",
    "    \n",
    "for key, value in republicans_accounts.items():\n",
    "    test_data.append(['1', value[1:]])\n",
    "    \n",
    "for key, value in democrats_accounts.items():\n",
    "    test_data.append(['0', value[1:]])"
   ]
  },
  {
   "cell_type": "code",
   "execution_count": 21,
   "metadata": {
    "collapsed": true
   },
   "outputs": [],
   "source": [
    "my_df = pd.DataFrame(test_data)\n",
    "\n",
    "my_df.to_csv('../data_collection/mentions_test_data.csv', index=False, header=['label', 'mentions'])"
   ]
  },
  {
   "cell_type": "code",
   "execution_count": 23,
   "metadata": {},
   "outputs": [
    {
     "data": {
      "text/html": [
       "<div>\n",
       "<style scoped>\n",
       "    .dataframe tbody tr th:only-of-type {\n",
       "        vertical-align: middle;\n",
       "    }\n",
       "\n",
       "    .dataframe tbody tr th {\n",
       "        vertical-align: top;\n",
       "    }\n",
       "\n",
       "    .dataframe thead th {\n",
       "        text-align: right;\n",
       "    }\n",
       "</style>\n",
       "<table border=\"1\" class=\"dataframe\">\n",
       "  <thead>\n",
       "    <tr style=\"text-align: right;\">\n",
       "      <th></th>\n",
       "      <th>0</th>\n",
       "      <th>1</th>\n",
       "    </tr>\n",
       "  </thead>\n",
       "  <tbody>\n",
       "    <tr>\n",
       "      <th>0</th>\n",
       "      <td>1</td>\n",
       "      <td>alex_svn alex_svn ljean mediabuzzfnc mediabuzz...</td>\n",
       "    </tr>\n",
       "    <tr>\n",
       "      <th>1</th>\n",
       "      <td>1</td>\n",
       "      <td>klark50cent paulsperry_ comey paulsperry_ paul...</td>\n",
       "    </tr>\n",
       "    <tr>\n",
       "      <th>2</th>\n",
       "      <td>1</td>\n",
       "      <td>foxfriendsfirst foxandfriends ferdinandmovie 2...</td>\n",
       "    </tr>\n",
       "    <tr>\n",
       "      <th>3</th>\n",
       "      <td>1</td>\n",
       "      <td>iowahawkblog politico leesmithdc kimstrassel a...</td>\n",
       "    </tr>\n",
       "    <tr>\n",
       "      <th>4</th>\n",
       "      <td>1</td>\n",
       "      <td>pjwarner staring_crocs simonline7 emperorwagyu...</td>\n",
       "    </tr>\n",
       "  </tbody>\n",
       "</table>\n",
       "</div>"
      ],
      "text/plain": [
       "   0                                                  1\n",
       "0  1  alex_svn alex_svn ljean mediabuzzfnc mediabuzz...\n",
       "1  1  klark50cent paulsperry_ comey paulsperry_ paul...\n",
       "2  1  foxfriendsfirst foxandfriends ferdinandmovie 2...\n",
       "3  1  iowahawkblog politico leesmithdc kimstrassel a...\n",
       "4  1  pjwarner staring_crocs simonline7 emperorwagyu..."
      ]
     },
     "execution_count": 23,
     "metadata": {},
     "output_type": "execute_result"
    }
   ],
   "source": [
    "my_df.head()"
   ]
  },
  {
   "cell_type": "code",
   "execution_count": null,
   "metadata": {
    "collapsed": true
   },
   "outputs": [],
   "source": []
  }
 ],
 "metadata": {
  "kernelspec": {
   "display_name": "twitter",
   "language": "python",
   "name": "twitter"
  },
  "language_info": {
   "codemirror_mode": {
    "name": "ipython",
    "version": 3
   },
   "file_extension": ".py",
   "mimetype": "text/x-python",
   "name": "python",
   "nbconvert_exporter": "python",
   "pygments_lexer": "ipython3",
   "version": "3.6.3"
  }
 },
 "nbformat": 4,
 "nbformat_minor": 2
}
