{
 "cells": [
  {
   "cell_type": "code",
   "execution_count": 2,
   "metadata": {
    "collapsed": true
   },
   "outputs": [],
   "source": [
    "import json\n",
    "import csv\n",
    "import pandas as pd"
   ]
  },
  {
   "cell_type": "code",
   "execution_count": 110,
   "metadata": {
    "collapsed": true
   },
   "outputs": [],
   "source": [
    "tweets_democrats_house_file = '../data_collection/tweets_democrats_house.txt'\n",
    "tweets_republicans_house_file = '../data_collection/tweets_republicans_house.txt' "
   ]
  },
  {
   "cell_type": "code",
   "execution_count": 111,
   "metadata": {},
   "outputs": [
    {
     "name": "stdout",
     "output_type": "stream",
     "text": [
      "{'account': 'RepDarrenSoto', 'hashtags': ['DQAwards'], 'urls': [], 'mentions': ['StephSmithFL', 'DanP_ATT']}\n"
     ]
    }
   ],
   "source": [
    "tweets_democrats = []\n",
    "with open(tweets_democrats_house_file) as f:\n",
    "    for line in f:\n",
    "        tweets_democrats.append(json.loads(line))\n",
    "\n",
    "tweets_republicans = []\n",
    "with open(tweets_republicans_house_file) as f:\n",
    "    for line in f:\n",
    "        tweets_republicans.append(json.loads(line))\n",
    "        \n",
    "print(tweets_democrats[0])"
   ]
  },
  {
   "cell_type": "code",
   "execution_count": 112,
   "metadata": {},
   "outputs": [
    {
     "name": "stdout",
     "output_type": "stream",
     "text": [
      "157 democrat accounts\n",
      "171 republican accounts\n"
     ]
    }
   ],
   "source": [
    "democrats_accounts = dict()\n",
    "for tweet in tweets_democrats:\n",
    "    hashtags = ''\n",
    "    for hashtag in tweet['hashtags']:\n",
    "        hashtags += ' ' + hashtag.lower()\n",
    "    if tweet['account'] in democrats_accounts:\n",
    "        democrats_accounts[tweet['account']] += hashtags\n",
    "    else:\n",
    "        democrats_accounts[tweet['account']] = hashtags\n",
    "print(len(democrats_accounts), 'democrat accounts')    \n",
    "    \n",
    "republicans_accounts = dict()\n",
    "for tweet in tweets_republicans:\n",
    "    hashtags = ''\n",
    "    for hashtag in tweet['hashtags']:\n",
    "        hashtags += ' ' + hashtag.lower()\n",
    "    if tweet['account'] in republicans_accounts:\n",
    "        republicans_accounts[tweet['account']] += hashtags\n",
    "    else:\n",
    "        republicans_accounts[tweet['account']] = hashtags\n",
    "print(len(republicans_accounts), 'republican accounts') "
   ]
  },
  {
   "cell_type": "code",
   "execution_count": 102,
   "metadata": {
    "collapsed": true
   },
   "outputs": [],
   "source": [
    "sample_data = []\n",
    "\n",
    "for key, value in democrats_accounts.items():\n",
    "    sample_data.append(['0', value[1:]])\n",
    "    \n",
    "for key, value in republicans_accounts.items():\n",
    "    sample_data.append(['1', value[1:]])"
   ]
  },
  {
   "cell_type": "code",
   "execution_count": 93,
   "metadata": {
    "collapsed": true
   },
   "outputs": [],
   "source": [
    "my_df = pd.DataFrame(sample_data)\n",
    "my_df.to_csv('../data_collection/hashtags_training_data.csv', index=False, header=['label', 'hashtags'])"
   ]
  },
  {
   "cell_type": "code",
   "execution_count": null,
   "metadata": {
    "collapsed": true
   },
   "outputs": [],
   "source": []
  },
  {
   "cell_type": "code",
   "execution_count": 23,
   "metadata": {
    "collapsed": true
   },
   "outputs": [],
   "source": [
    "tweets_republicans_support_file = '../data_collection/tweets_republican_support.txt' "
   ]
  },
  {
   "cell_type": "code",
   "execution_count": 24,
   "metadata": {
    "collapsed": true
   },
   "outputs": [],
   "source": [
    "tweets_republicans = []\n",
    "with open(tweets_republicans_support_file) as f:\n",
    "    for line in f:\n",
    "        tweets_republicans.append(json.loads(line))"
   ]
  },
  {
   "cell_type": "code",
   "execution_count": 25,
   "metadata": {},
   "outputs": [
    {
     "name": "stdout",
     "output_type": "stream",
     "text": [
      "31 republican accounts\n"
     ]
    }
   ],
   "source": [
    "republicans_accounts = dict()\n",
    "for tweet in tweets_republicans:\n",
    "    hashtags = ''\n",
    "    for hashtag in tweet['hashtags']:\n",
    "        hashtags += ' ' + hashtag.lower()\n",
    "    if tweet['account'] in republicans_accounts:\n",
    "        republicans_accounts[tweet['account']] += hashtags\n",
    "    else:\n",
    "        republicans_accounts[tweet['account']] = hashtags\n",
    "print(len(republicans_accounts), 'republican accounts') "
   ]
  },
  {
   "cell_type": "code",
   "execution_count": 26,
   "metadata": {
    "collapsed": true
   },
   "outputs": [],
   "source": [
    "test_data = []\n",
    "    \n",
    "for key, value in republicans_accounts.items():\n",
    "    test_data.append(['1', value[1:]])"
   ]
  },
  {
   "cell_type": "code",
   "execution_count": 27,
   "metadata": {
    "collapsed": true
   },
   "outputs": [],
   "source": [
    "my_df = pd.DataFrame(test_data)\n",
    "my_df.to_csv('../data_collection/hashtags_test_data.csv', index=False, header=['label', 'hashtags'])"
   ]
  },
  {
   "cell_type": "code",
   "execution_count": 28,
   "metadata": {},
   "outputs": [
    {
     "data": {
      "text/html": [
       "<div>\n",
       "<style scoped>\n",
       "    .dataframe tbody tr th:only-of-type {\n",
       "        vertical-align: middle;\n",
       "    }\n",
       "\n",
       "    .dataframe tbody tr th {\n",
       "        vertical-align: top;\n",
       "    }\n",
       "\n",
       "    .dataframe thead th {\n",
       "        text-align: right;\n",
       "    }\n",
       "</style>\n",
       "<table border=\"1\" class=\"dataframe\">\n",
       "  <thead>\n",
       "    <tr style=\"text-align: right;\">\n",
       "      <th></th>\n",
       "      <th>0</th>\n",
       "      <th>1</th>\n",
       "    </tr>\n",
       "  </thead>\n",
       "  <tbody>\n",
       "    <tr>\n",
       "      <th>0</th>\n",
       "      <td>1</td>\n",
       "      <td></td>\n",
       "    </tr>\n",
       "    <tr>\n",
       "      <th>1</th>\n",
       "      <td>1</td>\n",
       "      <td>reallyfakenews fbi dirtyfbi miga hypocrite pre...</td>\n",
       "    </tr>\n",
       "    <tr>\n",
       "      <th>2</th>\n",
       "      <td>1</td>\n",
       "      <td>starwars tgif jobs gooddayny mustread bingewor...</td>\n",
       "    </tr>\n",
       "    <tr>\n",
       "      <th>3</th>\n",
       "      <td>1</td>\n",
       "      <td>mueller specialcounsel flynn foxnews foxnews b...</td>\n",
       "    </tr>\n",
       "    <tr>\n",
       "      <th>4</th>\n",
       "      <td>1</td>\n",
       "      <td>readabookday deepestbluest gamerecognizegame s...</td>\n",
       "    </tr>\n",
       "  </tbody>\n",
       "</table>\n",
       "</div>"
      ],
      "text/plain": [
       "   0                                                  1\n",
       "0  1                                                   \n",
       "1  1  reallyfakenews fbi dirtyfbi miga hypocrite pre...\n",
       "2  1  starwars tgif jobs gooddayny mustread bingewor...\n",
       "3  1  mueller specialcounsel flynn foxnews foxnews b...\n",
       "4  1  readabookday deepestbluest gamerecognizegame s..."
      ]
     },
     "execution_count": 28,
     "metadata": {},
     "output_type": "execute_result"
    }
   ],
   "source": [
    "my_df.head()"
   ]
  },
  {
   "cell_type": "code",
   "execution_count": null,
   "metadata": {
    "collapsed": true
   },
   "outputs": [],
   "source": []
  }
 ],
 "metadata": {
  "kernelspec": {
   "display_name": "twitter",
   "language": "python",
   "name": "twitter"
  },
  "language_info": {
   "codemirror_mode": {
    "name": "ipython",
    "version": 3
   },
   "file_extension": ".py",
   "mimetype": "text/x-python",
   "name": "python",
   "nbconvert_exporter": "python",
   "pygments_lexer": "ipython3",
   "version": "3.6.3"
  }
 },
 "nbformat": 4,
 "nbformat_minor": 2
}
