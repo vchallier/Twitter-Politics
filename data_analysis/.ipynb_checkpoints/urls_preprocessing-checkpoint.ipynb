{
 "cells": [
  {
   "cell_type": "code",
   "execution_count": 26,
   "metadata": {
    "collapsed": true
   },
   "outputs": [],
   "source": [
    "import json\n",
    "import csv\n",
    "import pandas as pd\n",
    "from urllib.parse import urlparse"
   ]
  },
  {
   "cell_type": "code",
   "execution_count": 9,
   "metadata": {
    "collapsed": true
   },
   "outputs": [],
   "source": [
    "tweets_democrats_house_file = '../data_collection/tweets_democrats_house.txt'\n",
    "tweets_republicans_house_file = '../data_collection/tweets_republicans_house.txt' "
   ]
  },
  {
   "cell_type": "code",
   "execution_count": 10,
   "metadata": {},
   "outputs": [
    {
     "name": "stdout",
     "output_type": "stream",
     "text": [
      "[{'account': 'RepDarrenSoto', 'hashtags': ['DQAwards'], 'urls': [], 'mentions': ['StephSmithFL', 'DanP_ATT']}, {'account': 'RepDarrenSoto', 'hashtags': ['FlashbackFriday'], 'urls': [], 'mentions': ['ArringtonD3']}, {'account': 'RepDarrenSoto', 'hashtags': [], 'urls': ['https://twitter.com/i/web/status/939232400206385155'], 'mentions': []}, {'account': 'RepDarrenSoto', 'hashtags': ['Dreamers'], 'urls': [], 'mentions': ['HispanicCaucus']}, {'account': 'RepDarrenSoto', 'hashtags': [], 'urls': [], 'mentions': ['Nature_Florida', 'RepDarrenSoto']}, {'account': 'RepDarrenSoto', 'hashtags': [], 'urls': [], 'mentions': ['lachicamayra']}, {'account': 'RepDarrenSoto', 'hashtags': ['PuertoRico'], 'urls': ['https://twitter.com/i/web/status/938809003588677634'], 'mentions': []}, {'account': 'RepDarrenSoto', 'hashtags': ['TaxScamBill', 'Sayfie'], 'urls': ['https://twitter.com/i/web/status/938777389835980800'], 'mentions': []}, {'account': 'RepDarrenSoto', 'hashtags': ['NowOrNeverglades'], 'urls': [], 'mentions': ['SolidarityLLC', 'DWStweets', 'RepDarrenSoto']}, {'account': 'RepDarrenSoto', 'hashtags': [], 'urls': [], 'mentions': ['cancilleriasv', 'HugoMartinezSV']}]\n"
     ]
    }
   ],
   "source": [
    "tweets_democrats = []\n",
    "with open(tweets_democrats_house_file) as f:\n",
    "    for line in f:\n",
    "        tweets_democrats.append(json.loads(line))\n",
    "\n",
    "tweets_republicans = []\n",
    "with open(tweets_republicans_house_file) as f:\n",
    "    for line in f:\n",
    "        tweets_republicans.append(json.loads(line))\n",
    "        \n",
    "print(tweets_democrats[0:10])"
   ]
  },
  {
   "cell_type": "code",
   "execution_count": 17,
   "metadata": {},
   "outputs": [
    {
     "name": "stdout",
     "output_type": "stream",
     "text": [
      "167 democrat accounts\n",
      "171 republican accounts\n"
     ]
    }
   ],
   "source": [
    "democrats_accounts = dict()\n",
    "for tweet in tweets_democrats:\n",
    "    urls = ''\n",
    "    for url in tweet['urls']:\n",
    "        parsed_url = urlparse(url)\n",
    "        domain = '{uri.scheme}://{uri.netloc}/'.format(uri=parsed_url)\n",
    "        if 'twitter.com' not in domain:\n",
    "            urls += ' ' + domain\n",
    "    if tweet['account'] in democrats_accounts:\n",
    "        democrats_accounts[tweet['account']] += urls\n",
    "    else:\n",
    "        democrats_accounts[tweet['account']] = urls\n",
    "print(len(democrats_accounts), 'democrat accounts')    \n",
    "    \n",
    "republicans_accounts = dict()\n",
    "for tweet in tweets_republicans:\n",
    "    urls = ''\n",
    "    for url in tweet['urls']:\n",
    "        parsed_url = urlparse(url)\n",
    "        domain = '{uri.scheme}://{uri.netloc}/'.format(uri=parsed_url)\n",
    "        if 'twitter.com' not in domain:\n",
    "            urls += ' ' + domain\n",
    "    if tweet['account'] in republicans_accounts:\n",
    "        republicans_accounts[tweet['account']] += urls\n",
    "    else:\n",
    "        republicans_accounts[tweet['account']] = urls\n",
    "print(len(republicans_accounts), 'republican accounts') "
   ]
  },
  {
   "cell_type": "code",
   "execution_count": 18,
   "metadata": {
    "collapsed": true
   },
   "outputs": [],
   "source": [
    "sample_data = []\n",
    "\n",
    "for key, value in democrats_accounts.items():\n",
    "    sample_data.append(['0', value[1:]])\n",
    "    \n",
    "for key, value in republicans_accounts.items():\n",
    "    sample_data.append(['1', value[1:]])"
   ]
  },
  {
   "cell_type": "code",
   "execution_count": 22,
   "metadata": {
    "collapsed": true
   },
   "outputs": [],
   "source": [
    "my_df = pd.DataFrame(sample_data)\n",
    "my_df.to_csv('../data_collection/urls_data.csv', index=False, header=['label', 'urls'])"
   ]
  },
  {
   "cell_type": "code",
   "execution_count": 23,
   "metadata": {},
   "outputs": [
    {
     "data": {
      "text/html": [
       "<div>\n",
       "<style scoped>\n",
       "    .dataframe tbody tr th:only-of-type {\n",
       "        vertical-align: middle;\n",
       "    }\n",
       "\n",
       "    .dataframe tbody tr th {\n",
       "        vertical-align: top;\n",
       "    }\n",
       "\n",
       "    .dataframe thead th {\n",
       "        text-align: right;\n",
       "    }\n",
       "</style>\n",
       "<table border=\"1\" class=\"dataframe\">\n",
       "  <thead>\n",
       "    <tr style=\"text-align: right;\">\n",
       "      <th></th>\n",
       "      <th>0</th>\n",
       "      <th>1</th>\n",
       "    </tr>\n",
       "  </thead>\n",
       "  <tbody>\n",
       "    <tr>\n",
       "      <th>0</th>\n",
       "      <td>0</td>\n",
       "      <td>http://www.businessinsider.com/ http://www.tam...</td>\n",
       "    </tr>\n",
       "    <tr>\n",
       "      <th>1</th>\n",
       "      <td>0</td>\n",
       "      <td>https://lasvegassun.com/ http://www.mcclatchyd...</td>\n",
       "    </tr>\n",
       "    <tr>\n",
       "      <th>2</th>\n",
       "      <td>0</td>\n",
       "      <td>https://usat.ly/ https://medium.com/ https://m...</td>\n",
       "    </tr>\n",
       "    <tr>\n",
       "      <th>3</th>\n",
       "      <td>0</td>\n",
       "      <td>http://thehill.com/ https://www.healthcare.gov...</td>\n",
       "    </tr>\n",
       "    <tr>\n",
       "      <th>4</th>\n",
       "      <td>0</td>\n",
       "      <td>http://thndr.me/ http://www.healthcare.gov/ ht...</td>\n",
       "    </tr>\n",
       "  </tbody>\n",
       "</table>\n",
       "</div>"
      ],
      "text/plain": [
       "   0                                                  1\n",
       "0  0  http://www.businessinsider.com/ http://www.tam...\n",
       "1  0  https://lasvegassun.com/ http://www.mcclatchyd...\n",
       "2  0  https://usat.ly/ https://medium.com/ https://m...\n",
       "3  0  http://thehill.com/ https://www.healthcare.gov...\n",
       "4  0  http://thndr.me/ http://www.healthcare.gov/ ht..."
      ]
     },
     "execution_count": 23,
     "metadata": {},
     "output_type": "execute_result"
    }
   ],
   "source": [
    "my_df.head()"
   ]
  },
  {
   "cell_type": "code",
   "execution_count": null,
   "metadata": {
    "collapsed": true
   },
   "outputs": [],
   "source": []
  },
  {
   "cell_type": "code",
   "execution_count": 24,
   "metadata": {
    "collapsed": true
   },
   "outputs": [],
   "source": [
    "tweets_republicans_support_file = '../data_collection/tweets_republican_support.txt' "
   ]
  },
  {
   "cell_type": "code",
   "execution_count": 25,
   "metadata": {
    "collapsed": true
   },
   "outputs": [],
   "source": [
    "tweets_republicans = []\n",
    "with open(tweets_republicans_support_file) as f:\n",
    "    for line in f:\n",
    "        tweets_republicans.append(json.loads(line))"
   ]
  },
  {
   "cell_type": "code",
   "execution_count": 30,
   "metadata": {},
   "outputs": [
    {
     "name": "stdout",
     "output_type": "stream",
     "text": [
      "31 republican accounts\n"
     ]
    }
   ],
   "source": [
    "republicans_accounts = dict()\n",
    "for tweet in tweets_republicans:\n",
    "    urls = ''\n",
    "    for url in tweet['urls']:\n",
    "        parsed_url = urlparse(url)\n",
    "        domain = '{uri.scheme}://{uri.netloc}/'.format(uri=parsed_url)\n",
    "        if 'twitter.com' not in domain:\n",
    "            urls += ' ' + domain\n",
    "    if tweet['account'] in republicans_accounts:\n",
    "        republicans_accounts[tweet['account']] += urls\n",
    "    else:\n",
    "        republicans_accounts[tweet['account']] = urls\n",
    "print(len(republicans_accounts), 'republican accounts') "
   ]
  },
  {
   "cell_type": "code",
   "execution_count": 31,
   "metadata": {
    "collapsed": true
   },
   "outputs": [],
   "source": [
    "test_data = []\n",
    "    \n",
    "for key, value in republicans_accounts.items():\n",
    "    test_data.append(['1', value[1:]])"
   ]
  },
  {
   "cell_type": "code",
   "execution_count": 32,
   "metadata": {
    "collapsed": true
   },
   "outputs": [],
   "source": [
    "my_df = pd.DataFrame(test_data)\n",
    "my_df.to_csv('../data_collection/urls_test_data.csv', index=False, header=['label', 'urls'])"
   ]
  },
  {
   "cell_type": "code",
   "execution_count": 33,
   "metadata": {},
   "outputs": [
    {
     "data": {
      "text/html": [
       "<div>\n",
       "<style scoped>\n",
       "    .dataframe tbody tr th:only-of-type {\n",
       "        vertical-align: middle;\n",
       "    }\n",
       "\n",
       "    .dataframe tbody tr th {\n",
       "        vertical-align: top;\n",
       "    }\n",
       "\n",
       "    .dataframe thead th {\n",
       "        text-align: right;\n",
       "    }\n",
       "</style>\n",
       "<table border=\"1\" class=\"dataframe\">\n",
       "  <thead>\n",
       "    <tr style=\"text-align: right;\">\n",
       "      <th></th>\n",
       "      <th>0</th>\n",
       "      <th>1</th>\n",
       "    </tr>\n",
       "  </thead>\n",
       "  <tbody>\n",
       "    <tr>\n",
       "      <th>0</th>\n",
       "      <td>1</td>\n",
       "      <td>http://thehill.com/ http://thehill.com/ https:...</td>\n",
       "    </tr>\n",
       "    <tr>\n",
       "      <th>1</th>\n",
       "      <td>1</td>\n",
       "      <td>https://nypost.com/ https://www.investors.com/...</td>\n",
       "    </tr>\n",
       "    <tr>\n",
       "      <th>2</th>\n",
       "      <td>1</td>\n",
       "      <td>https://www.21cf.com/ http://press.foxbusiness...</td>\n",
       "    </tr>\n",
       "    <tr>\n",
       "      <th>3</th>\n",
       "      <td>1</td>\n",
       "      <td>https://www.washingtontimes.com/ http://thehil...</td>\n",
       "    </tr>\n",
       "    <tr>\n",
       "      <th>4</th>\n",
       "      <td>1</td>\n",
       "      <td>http://tinyurl.com/ http://www.nydailynews.com...</td>\n",
       "    </tr>\n",
       "  </tbody>\n",
       "</table>\n",
       "</div>"
      ],
      "text/plain": [
       "   0                                                  1\n",
       "0  1  http://thehill.com/ http://thehill.com/ https:...\n",
       "1  1  https://nypost.com/ https://www.investors.com/...\n",
       "2  1  https://www.21cf.com/ http://press.foxbusiness...\n",
       "3  1  https://www.washingtontimes.com/ http://thehil...\n",
       "4  1  http://tinyurl.com/ http://www.nydailynews.com..."
      ]
     },
     "execution_count": 33,
     "metadata": {},
     "output_type": "execute_result"
    }
   ],
   "source": [
    "my_df.head()"
   ]
  },
  {
   "cell_type": "code",
   "execution_count": null,
   "metadata": {
    "collapsed": true
   },
   "outputs": [],
   "source": []
  }
 ],
 "metadata": {
  "kernelspec": {
   "display_name": "twitter",
   "language": "python",
   "name": "twitter"
  },
  "language_info": {
   "codemirror_mode": {
    "name": "ipython",
    "version": 3
   },
   "file_extension": ".py",
   "mimetype": "text/x-python",
   "name": "python",
   "nbconvert_exporter": "python",
   "pygments_lexer": "ipython3",
   "version": "3.6.3"
  }
 },
 "nbformat": 4,
 "nbformat_minor": 2
}
